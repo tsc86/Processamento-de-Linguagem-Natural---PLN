{
  "nbformat": 4,
  "nbformat_minor": 0,
  "metadata": {
    "colab": {
      "provenance": [],
      "include_colab_link": true
    },
    "kernelspec": {
      "name": "python3",
      "display_name": "Python 3"
    },
    "language_info": {
      "name": "python"
    }
  },
  "cells": [
    {
      "cell_type": "markdown",
      "metadata": {
        "id": "view-in-github",
        "colab_type": "text"
      },
      "source": [
        "<a href=\"https://colab.research.google.com/github/tsc86/Processamento-de-Linguagem-Natural---PLN/blob/main/Aula_05_An%C3%A1lise_sint%C3%A1tica_e_estrutura_de_texto.ipynb\" target=\"_parent\"><img src=\"https://colab.research.google.com/assets/colab-badge.svg\" alt=\"Open In Colab\"/></a>"
      ]
    },
    {
      "cell_type": "markdown",
      "source": [
        " Parte 01 - Desenvolvimento conceitual de corporas"
      ],
      "metadata": {
        "id": "sf7TGnSybW-n"
      }
    },
    {
      "cell_type": "code",
      "source": [
        "# Criar uma função para fazer a abertura e leitura do arquivo\n",
        "def ler(nome_arquivo):\n",
        " arquivo = open(nome_arquivo, 'r', encoding='utf-8')\n",
        " conteudo_arq = arquivo.read()\n",
        " arquivo.close()\n",
        "\n",
        " return conteudo_arq"
      ],
      "metadata": {
        "id": "gD_Phrnbitz1"
      },
      "execution_count": null,
      "outputs": []
    },
    {
      "cell_type": "code",
      "source": [
        "texto = ler('/content/2025.05 Ubirajara.txt')\n",
        "print(len(texto))"
      ],
      "metadata": {
        "id": "H64g2UFuixnS"
      },
      "execution_count": null,
      "outputs": []
    },
    {
      "cell_type": "markdown",
      "source": [
        "Buscador de palavras"
      ],
      "metadata": {
        "id": "7e9a9eZ8i5ku"
      }
    },
    {
      "cell_type": "code",
      "source": [
        "def buscador(alvo, texto):\n",
        "  texto = texto.replace('\\n',' ')\n",
        "  texto = texto.replace('\\t',' ')\n",
        "\n",
        "  ocorrencias = []\n",
        "\n",
        "  encontrado_aqui = texto.find(alvo, 0) #-1\n",
        "    #Se encontra a palavra, informa a posição\n",
        "    #Se não encontrar, informa -1\n",
        "\n",
        "  while encontrado_aqui > 0:\n",
        "    pos_inicial = encontrado_aqui - (40 - len(alvo))\n",
        "    trecho = texto[pos_inicial: pos_inicial + 80]\n",
        "\n",
        "\n",
        "    ocorrencias.append(trecho)\n",
        "\n",
        "    encontrado_aqui = texto.find(alvo, encontrado_aqui + 1)\n",
        "    # inicia a busca a partir da posição anterior ++\n",
        "    #se encontra a palavra, informa a posição\n",
        "    # se não encotrar, informa -1\n",
        "\n",
        "  return ocorrencias\n"
      ],
      "metadata": {
        "id": "nMbu1BGUi7Bo"
      },
      "execution_count": null,
      "outputs": []
    },
    {
      "cell_type": "code",
      "source": [
        "resultados = buscador('peito', texto)\n",
        "\n",
        "for trecho in resultados:\n",
        "  print(trecho)"
      ],
      "metadata": {
        "id": "6SlTw8H5jDxq"
      },
      "execution_count": null,
      "outputs": []
    },
    {
      "cell_type": "markdown",
      "source": [
        "Parte 02 - Limpeza de corpus"
      ],
      "metadata": {
        "id": "lfx6jsWMjI0d"
      }
    },
    {
      "cell_type": "code",
      "source": [
        "palavras = texto.split()"
      ],
      "metadata": {
        "id": "lrtf_fTyjKAr"
      },
      "execution_count": null,
      "outputs": []
    },
    {
      "cell_type": "code",
      "source": [
        "teste = \"O cachorro correu atrás do carro.\"\n",
        "word = teste.split()\n",
        "print(word)"
      ],
      "metadata": {
        "id": "8--5MuFkjP3V"
      },
      "execution_count": null,
      "outputs": []
    },
    {
      "cell_type": "code",
      "source": [
        "def limpar(lista):\n",
        "  lixo = '.,:;?!\"`´^~()[]{}/\\|@#$%¨&*'\n",
        "  quase_limpo = [x.strip(lixo).lower() for x in lista]\n",
        "  return [x for x in quase_limpo if x.isalpha() or '-' not in x]"
      ],
      "metadata": {
        "id": "_bfN1mqejgMm"
      },
      "execution_count": null,
      "outputs": []
    },
    {
      "cell_type": "code",
      "source": [
        "teste = \"Corre-se atrás do carro, corre se o carro for embora.\"\n",
        "word = teste.split()\n",
        "print(word)"
      ],
      "metadata": {
        "id": "uvBU95BejpOY"
      },
      "execution_count": null,
      "outputs": []
    },
    {
      "cell_type": "code",
      "source": [
        "print(limpar(word))"
      ],
      "metadata": {
        "id": "iM7QU_qcjvBO"
      },
      "execution_count": null,
      "outputs": []
    },
    {
      "cell_type": "code",
      "source": [
        "print(len(palavras))\n",
        "palavras = limpar(palavras)\n",
        "print(len(palavras))"
      ],
      "metadata": {
        "id": "WWJdq6x0jwAJ"
      },
      "execution_count": null,
      "outputs": []
    },
    {
      "cell_type": "code",
      "source": [],
      "metadata": {
        "id": "geGUjBhJj0XQ"
      },
      "execution_count": null,
      "outputs": []
    }
  ]
}