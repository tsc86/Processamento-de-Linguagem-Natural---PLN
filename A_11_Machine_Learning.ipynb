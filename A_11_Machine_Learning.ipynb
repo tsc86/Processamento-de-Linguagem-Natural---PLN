{
  "nbformat": 4,
  "nbformat_minor": 0,
  "metadata": {
    "colab": {
      "provenance": [],
      "include_colab_link": true
    },
    "kernelspec": {
      "name": "python3",
      "display_name": "Python 3"
    },
    "language_info": {
      "name": "python"
    }
  },
  "cells": [
    {
      "cell_type": "markdown",
      "metadata": {
        "id": "view-in-github",
        "colab_type": "text"
      },
      "source": [
        "<a href=\"https://colab.research.google.com/github/tsc86/Processamento-de-Linguagem-Natural---PLN/blob/main/A_11_Machine_Learning.ipynb\" target=\"_parent\"><img src=\"https://colab.research.google.com/assets/colab-badge.svg\" alt=\"Open In Colab\"/></a>"
      ]
    },
    {
      "cell_type": "markdown",
      "source": [
        "# Pipeline de Classificação de Texto"
      ],
      "metadata": {
        "id": "C_bkvVOmPcFv"
      }
    },
    {
      "cell_type": "code",
      "execution_count": null,
      "metadata": {
        "colab": {
          "base_uri": "https://localhost:8080/"
        },
        "id": "gmNy-yCXPXyQ",
        "outputId": "0f152deb-8e5d-4d50-c15d-f0c7586917b4"
      },
      "outputs": [
        {
          "output_type": "stream",
          "name": "stdout",
          "text": [
            "Base de dados criada e salva em 'dados_rotulados.csv'\n"
          ]
        }
      ],
      "source": [
        "#Criando a base de dados a ser utilizada\n",
        "import pandas as pd\n",
        "\n",
        "data = {\n",
        "  'texto': [\n",
        "    \"Este é um otimo filme!\",\n",
        "    \"O produto é muito ruim.\",\n",
        "    \"Adorei o atendimento ao cliente.\",\n",
        "    \"A entrega atrasou e o produto veio com defeito.\",\n",
        "    \"Recomendo este livro a todos!\",\n",
        "    \"Não gostei da experiência.\",\n",
        "    \"O serviço foi excelente.\",\n",
        "    \"Péssima qualidade, não comprem!\",\n",
        "    \"Amei o presente, muito obrigado!\",\n",
        "    \"Que decepcao, perdi meu dinheiro.\"\n",
        "  ],\n",
        "  'categoria': [\n",
        "    \"positivo\",\n",
        "    \"negativo\",\n",
        "    \"positivo\",\n",
        "    \"negativo\",\n",
        "    \"positivo\",\n",
        "    \"negativo\",\n",
        "    \"positivo\",\n",
        "    \"negativo\",\n",
        "    \"positivo\",\n",
        "    \"negativo\"\n",
        "  ]\n",
        "}\n",
        "\n",
        "df = pd.DataFrame(data)\n",
        "\n",
        "df.to_csv('dados_rotulados.csv', index=False, encoding='utf-8')\n",
        "\n",
        "print(\"Base de dados criada e salva em 'dados_rotulados.csv'\")"
      ]
    },
    {
      "cell_type": "markdown",
      "source": [
        "## Etapa 01 - Preparação dos dados"
      ],
      "metadata": {
        "id": "YZNY_vvCQAk0"
      }
    },
    {
      "cell_type": "code",
      "source": [
        "import nltk\n",
        "import spacy\n",
        "import sklearn\n",
        "import pandas as pd\n",
        "import matplotlib.pyplot as plt\n",
        "import string\n",
        "from nltk.corpus import stopwords\n",
        "from nltk.tokenize import word_tokenize\n",
        "from nltk.stem import SnowballStemmer\n",
        "from sklearn.model_selection import train_test_split\n",
        "\n",
        "nltk.download('stopwords')\n",
        "nltk.download('punkt_tab')"
      ],
      "metadata": {
        "colab": {
          "base_uri": "https://localhost:8080/"
        },
        "id": "6ZkMKEYZQEEJ",
        "outputId": "c300a585-d3f0-45e5-8399-14c6ba6edaef"
      },
      "execution_count": null,
      "outputs": [
        {
          "output_type": "stream",
          "name": "stderr",
          "text": [
            "[nltk_data] Downloading package stopwords to /root/nltk_data...\n",
            "[nltk_data]   Unzipping corpora/stopwords.zip.\n",
            "[nltk_data] Downloading package punkt_tab to /root/nltk_data...\n",
            "[nltk_data]   Unzipping tokenizers/punkt_tab.zip.\n"
          ]
        },
        {
          "output_type": "execute_result",
          "data": {
            "text/plain": [
              "True"
            ]
          },
          "metadata": {},
          "execution_count": 8
        }
      ]
    },
    {
      "cell_type": "code",
      "source": [
        "# Carregar o conjunto de dados de texto rotulado\n",
        "data = pd.read_csv('dados_rotulados.csv', encoding='utf-8')\n",
        "\n",
        "print(\"Informações do conjunto de dados: \")\n",
        "print(data.info())\n",
        "\n",
        "print(\"\\nPrimeiras 5 linhas do conjunto de dados:\")\n",
        "print(data.head())\n",
        "\n",
        "# Categorias\n",
        "plt.figure(figsize=(10,5))\n",
        "data['categoria'].value_counts().plot(kind='bar')\n",
        "plt.title('Distribuição das Categorias')\n",
        "plt.xlabel('Categoria')\n",
        "plt.ylabel('Contagem')\n",
        "plt.show()\n",
        "\n",
        "# Tamanho\n",
        "tamanhos_textos = data['texto'].apply(len)\n",
        "plt.figure(figsize=(10,5))\n",
        "plt.hist(tamanhos_textos, bins=50)\n",
        "plt.title('Tamanho dos Textos')\n",
        "plt.xlabel('Tamanho do Texto')\n",
        "plt.ylabel('Frequência')\n",
        "plt.show()\n"
      ],
      "metadata": {
        "colab": {
          "base_uri": "https://localhost:8080/",
          "height": 1000
        },
        "id": "151ctvbmQMWM",
        "outputId": "5c2d5736-0c56-4233-866f-62d045ee28a2"
      },
      "execution_count": null,
      "outputs": [
        {
          "output_type": "stream",
          "name": "stdout",
          "text": [
            "Informações do conjunto de dados: \n",
            "<class 'pandas.core.frame.DataFrame'>\n",
            "RangeIndex: 10 entries, 0 to 9\n",
            "Data columns (total 2 columns):\n",
            " #   Column     Non-Null Count  Dtype \n",
            "---  ------     --------------  ----- \n",
            " 0   texto      10 non-null     object\n",
            " 1   categoria  10 non-null     object\n",
            "dtypes: object(2)\n",
            "memory usage: 292.0+ bytes\n",
            "None\n",
            "\n",
            "Primeiras 5 linhas do conjunto de dados:\n",
            "                                             texto categoria\n",
            "0                           Este é um otimo filme!  positivo\n",
            "1                          O produto é muito ruim.  negativo\n",
            "2                 Adorei o atendimento ao cliente.  positivo\n",
            "3  A entrega atrasou e o produto veio com defeito.  negativo\n",
            "4                    Recomendo este livro a todos!  positivo\n"
          ]
        },
        {
          "output_type": "display_data",
          "data": {
            "text/plain": [
              "<Figure size 1000x500 with 1 Axes>"
            ],
            "image/png": "[encoded data removed]"
          },
          "metadata": {}
        },
        {
          "output_type": "display_data",
          "data": {
            "text/plain": [
              "<Figure size 1000x500 with 1 Axes>"
            ],
            "image/png": "[encoded data removed]"
          },
          "metadata": {}
        }
      ]
    },
    {
      "cell_type": "code",
      "source": [
        "def preprocessar_texto(texto):\n",
        "  texto = texto. translate(str.maketrans('', '', string.punctuation))\n",
        "  texto = ''.join([c for c in texto if not c.isdigit()])\n",
        "\n",
        "  tokens = word_tokenize(texto.lower())\n",
        "\n",
        "  stop_words = set(stopwords.words('portuguese'))\n",
        "  tokens = [palavra for palavra in tokens if palavra not in stop_words]\n",
        "\n",
        "  stemmer = SnowballStemmer('portuguese')\n",
        "  tokens = [stemmer.stem(palavra) for palavra in tokens]\n",
        "  return ' '.join(tokens)\n",
        "\n",
        "data['texto_processado' ] = data['texto' ].apply(preprocessar_texto)\n",
        "\n",
        "X_train, X_test, y_train, y_test = train_test_split(\n",
        "  data['texto_processado' ], data['categoria' ], test_size=0.2, random_state=42)\n",
        "\n",
        "print(\"\\nTamanho do conjunto de treinamento:\", len(X_train))\n",
        "print(\"Tamanho do conjunto de teste:\", len(X_test))"
      ],
      "metadata": {
        "colab": {
          "base_uri": "https://localhost:8080/"
        },
        "id": "ASDr_LX0RpTO",
        "outputId": "7ae26145-bc01-4241-94d0-6e190a70d938"
      },
      "execution_count": null,
      "outputs": [
        {
          "output_type": "stream",
          "name": "stdout",
          "text": [
            "\n",
            "Tamanho do conjunto de treinamento: 8\n",
            "Tamanho do conjunto de teste: 2\n"
          ]
        }
      ]
    },
    {
      "cell_type": "markdown",
      "source": [
        "## Etapa 02 - Extração de características"
      ],
      "metadata": {
        "id": "huGIVoOXSCOb"
      }
    },
    {
      "cell_type": "code",
      "source": [
        "from sklearn. feature_extraction.text import TfidfVectorizer\n",
        "from sklearn.naive_bayes import MultinomialNB\n",
        "from sklearn.metrics import accuracy_score, classification_report\n",
        "\n",
        "vectorizer = TfidfVectorizer()\n",
        "X_train_tfidf = vectorizer.fit_transform(X_train)\n",
        "X_test_tfidf = vectorizer. transform(X_test)\n",
        "\n",
        "print(\"\\nNumero de características extraídas:\", X_train_tfidf.shape[1])\n",
        "\n",
        "modelo = MultinomialNB()\n",
        "modelo.fit(X_train_tfidf, y_train)\n",
        "\n",
        "y_pred = modelo.predict(X_test_tfidf)\n",
        "acuracia = accuracy_score(y_test, y_pred)\n",
        "print(\"\\nAcuracia do modelo:\", acuracia)\n",
        "print(\"\\nRelatório de Classificação:\\n\", classification_report(y_test, y_pred) )"
      ],
      "metadata": {
        "colab": {
          "base_uri": "https://localhost:8080/"
        },
        "id": "v3nSKee0SGWy",
        "outputId": "b0f8a169-10fa-4ac7-884b-7cd588aa83b5"
      },
      "execution_count": null,
      "outputs": [
        {
          "output_type": "stream",
          "name": "stdout",
          "text": [
            "\n",
            "Numero de características extraídas: 23\n",
            "\n",
            "Acuracia do modelo: 0.5\n",
            "\n",
            "Relatório de Classificação:\n",
            "               precision    recall  f1-score   support\n",
            "\n",
            "    negativo       0.50      1.00      0.67         1\n",
            "    positivo       0.00      0.00      0.00         1\n",
            "\n",
            "    accuracy                           0.50         2\n",
            "   macro avg       0.25      0.50      0.33         2\n",
            "weighted avg       0.25      0.50      0.33         2\n",
            "\n"
          ]
        },
        {
          "output_type": "stream",
          "name": "stderr",
          "text": [
            "/usr/local/lib/python3.11/dist-packages/sklearn/metrics/_classification.py:1565: UndefinedMetricWarning: Precision is ill-defined and being set to 0.0 in labels with no predicted samples. Use `zero_division` parameter to control this behavior.\n",
            "  _warn_prf(average, modifier, f\"{metric.capitalize()} is\", len(result))\n",
            "/usr/local/lib/python3.11/dist-packages/sklearn/metrics/_classification.py:1565: UndefinedMetricWarning: Precision is ill-defined and being set to 0.0 in labels with no predicted samples. Use `zero_division` parameter to control this behavior.\n",
            "  _warn_prf(average, modifier, f\"{metric.capitalize()} is\", len(result))\n",
            "/usr/local/lib/python3.11/dist-packages/sklearn/metrics/_classification.py:1565: UndefinedMetricWarning: Precision is ill-defined and being set to 0.0 in labels with no predicted samples. Use `zero_division` parameter to control this behavior.\n",
            "  _warn_prf(average, modifier, f\"{metric.capitalize()} is\", len(result))\n"
          ]
        }
      ]
    },
    {
      "cell_type": "code",
      "source": [
        "def classificar_texto(texto, vectorizer, modelo):\n",
        "  texto_processado = preprocessar_texto(texto)\n",
        "  texto_tfidf = vectorizer. transform([texto_processado])\n",
        "\n",
        "  categoria_prevista = modelo.predict(texto_tfidf)[0]\n",
        "  probabilidades = modelo.predict_proba(texto_tfidf)[0]\n",
        "\n",
        "  categorias = modelo.classes_\n",
        "  probabilidades_por_categoria = dict(zip(categorias, probabilidades))\n",
        "  return categoria_prevista, probabilidades_por_categoria\n",
        "\n",
        "novo_texto = \"Este filme é incrível, recomendo a todos!\"\n",
        "categoria, probabilidades = classificar_texto(novo_texto, vectorizer, modelo)\n",
        "print(\"Novo texto:\", novo_texto)\n",
        "print(\"Categoria prevista:\", categoria)\n",
        "print(\"Probabilidades por categoria:\", probabilidades)"
      ],
      "metadata": {
        "colab": {
          "base_uri": "https://localhost:8080/"
        },
        "id": "icaPOeAvSSox",
        "outputId": "3dab7203-a5af-421d-8fd8-ce1b4388445a"
      },
      "execution_count": null,
      "outputs": [
        {
          "output_type": "stream",
          "name": "stdout",
          "text": [
            "Novo texto: Este filme é incrível, recomendo a todos!\n",
            "Categoria prevista: positivo\n",
            "Probabilidades por categoria: {np.str_('negativo'): np.float64(0.29256806327043555), np.str_('positivo'): np.float64(0.7074319367295648)}\n"
          ]
        }
      ]
    },
    {
      "cell_type": "markdown",
      "source": [
        "## Etapa 03 - Treinamento de um modelo"
      ],
      "metadata": {
        "id": "vZICF4zeSY5c"
      }
    },
    {
      "cell_type": "code",
      "source": [
        "from sklearn.linear_model import LogisticRegression\n",
        "from sklearn.svm import SVC\n",
        "from sklearn.model_selection import GridSearchCV\n",
        "\n",
        "naive_bayes_model = MultinomialNB()\n",
        "svm_model = SVC(random_state=42, probability=True)\n",
        "\n",
        "naive_bayes_model.fit(X_train_tfidf, y_train)\n",
        "svm_model.fit(X_train_tfidf, y_train)\n",
        "\n",
        "param_grid_nb = {}\n",
        "\n",
        "param_grid_svm = {'C': [0.1, 1, 10], 'kernel': ['linear', 'rbf' ]}\n",
        "grid_search_svm = GridSearchCV(svm_model, param_grid_svm, cv=2)"
      ],
      "metadata": {
        "id": "E4qL63lPSbLq"
      },
      "execution_count": null,
      "outputs": []
    },
    {
      "cell_type": "code",
      "source": [
        "grid_search_svm.fit(X_train_tfidf, y_train)\n",
        "\n",
        "print(\"Melhores hiperparametros para SVM:\", grid_search_svm.best_params_)\n",
        "\n",
        "best_svm_model = grid_search_svm.best_estimator_\n",
        "\n",
        "print(\"\\nResultados da avaliação:\")\n",
        "\n",
        "#Naive Bayes\n",
        "y_pred_nb = naive_bayes_model.predict(X_test_tfidf)\n",
        "acuracia_nb = accuracy_score(y_test, y_pred_nb)\n",
        "print(\"\\nNaive Bayes Multinomial:\")\n",
        "print(\"Acurácia:\", acuracia_nb)\n",
        "print(\"Relatório de Classificacão:\\n\", classification_report(y_test, y_pred_nb))\n",
        "\n",
        "#SVM\n",
        "y_pred_svm = best_svm_model.predict(X_test_tfidf)\n",
        "acuracia_svm = accuracy_score(y_test, y_pred_svm)\n",
        "print(\"\\nSVM:\")\n",
        "print(\"Acurácia:\", acuracia_svm)\n",
        "print(\"Relatório de Classificacão:\\n\", classification_report(y_test, y_pred_svm) )\n",
        "\n",
        "\n",
        "def classificar_texto(texto, vectorizer, modelo):\n",
        "  texto_processado = preprocessar_texto(texto)\n",
        "  texto_tfidf = vectorizer. transform([texto_processado])\n",
        "\n",
        "  categoria_prevista = modelo.predict(texto_tfidf)[0]\n",
        "  probabilidades = modelo.predict_proba(texto_tfidf)[0]\n",
        "\n",
        "  categorias = modelo.classes_\n",
        "  probabilidades_por_categoria = dict(zip(categorias, probabilidades))\n",
        "  return categoria_prevista, probabilidades_por_categoria"
      ],
      "metadata": {
        "colab": {
          "base_uri": "https://localhost:8080/"
        },
        "id": "hvt1PbSGSrAE",
        "outputId": "fdf03b51-d527-44df-b47d-f1d8fa92633f"
      },
      "execution_count": null,
      "outputs": [
        {
          "output_type": "stream",
          "name": "stdout",
          "text": [
            "Melhores hiperparametros para SVM: {'C': 1, 'kernel': 'rbf'}\n",
            "\n",
            "Resultados da avaliação:\n",
            "\n",
            "Naive Bayes Multinomial:\n",
            "Acurácia: 0.5\n",
            "Relatório de Classificacão:\n",
            "               precision    recall  f1-score   support\n",
            "\n",
            "    negativo       0.50      1.00      0.67         1\n",
            "    positivo       0.00      0.00      0.00         1\n",
            "\n",
            "    accuracy                           0.50         2\n",
            "   macro avg       0.25      0.50      0.33         2\n",
            "weighted avg       0.25      0.50      0.33         2\n",
            "\n",
            "\n",
            "SVM:\n",
            "Acurácia: 1.0\n",
            "Relatório de Classificacão:\n",
            "               precision    recall  f1-score   support\n",
            "\n",
            "    negativo       1.00      1.00      1.00         1\n",
            "    positivo       1.00      1.00      1.00         1\n",
            "\n",
            "    accuracy                           1.00         2\n",
            "   macro avg       1.00      1.00      1.00         2\n",
            "weighted avg       1.00      1.00      1.00         2\n",
            "\n"
          ]
        },
        {
          "output_type": "stream",
          "name": "stderr",
          "text": [
            "/usr/local/lib/python3.11/dist-packages/sklearn/metrics/_classification.py:1565: UndefinedMetricWarning: Precision is ill-defined and being set to 0.0 in labels with no predicted samples. Use `zero_division` parameter to control this behavior.\n",
            "  _warn_prf(average, modifier, f\"{metric.capitalize()} is\", len(result))\n",
            "/usr/local/lib/python3.11/dist-packages/sklearn/metrics/_classification.py:1565: UndefinedMetricWarning: Precision is ill-defined and being set to 0.0 in labels with no predicted samples. Use `zero_division` parameter to control this behavior.\n",
            "  _warn_prf(average, modifier, f\"{metric.capitalize()} is\", len(result))\n",
            "/usr/local/lib/python3.11/dist-packages/sklearn/metrics/_classification.py:1565: UndefinedMetricWarning: Precision is ill-defined and being set to 0.0 in labels with no predicted samples. Use `zero_division` parameter to control this behavior.\n",
            "  _warn_prf(average, modifier, f\"{metric.capitalize()} is\", len(result))\n"
          ]
        }
      ]
    },
    {
      "cell_type": "code",
      "source": [
        "novo_texto = \"Este filme é incrível, recomendo a todos!\"\n",
        "categoria_nb, probabilidades_nb = classificar_texto(novo_texto, vectorizer, naive_bayes_model)\n",
        "categoria_svm, probabilidades_svm = classificar_texto(novo_texto, vectorizer, best_svm_model)\n",
        "\n",
        "print(\"\\nNovo texto:\", novo_texto)\n",
        "print(\"\\nResultados da classificação:\")\n",
        "print(\"\\nNaive Bayes Multinomial:\")\n",
        "print(\"Categoria prevista:\", categoria_nb)\n",
        "print(\"Probabilidades por categoria:\", probabilidades_nb)\n",
        "print(\"\\nSVM:\")\n",
        "print(\"Categoria prevista:\", categoria_svm)\n",
        "print(\"Probabilidades por categoria:\", probabilidades_svm)"
      ],
      "metadata": {
        "colab": {
          "base_uri": "https://localhost:8080/"
        },
        "id": "VMDV7WviSyP7",
        "outputId": "fd1165f4-6aba-4718-8798-96b234478ab4"
      },
      "execution_count": null,
      "outputs": [
        {
          "output_type": "stream",
          "name": "stdout",
          "text": [
            "\n",
            "Novo texto: Este filme é incrível, recomendo a todos!\n",
            "\n",
            "Resultados da classificação:\n",
            "\n",
            "Naive Bayes Multinomial:\n",
            "Categoria prevista: positivo\n",
            "Probabilidades por categoria: {np.str_('negativo'): np.float64(0.29256806327043555), np.str_('positivo'): np.float64(0.7074319367295648)}\n",
            "\n",
            "SVM:\n",
            "Categoria prevista: positivo\n",
            "Probabilidades por categoria: {'negativo': np.float64(0.8817303978937229), 'positivo': np.float64(0.11826960210627731)}\n"
          ]
        }
      ]
    },
    {
      "cell_type": "markdown",
      "source": [
        "## Etapa 04 - Avaliação do modelo"
      ],
      "metadata": {
        "id": "OSUVcygES6mh"
      }
    },
    {
      "cell_type": "code",
      "source": [
        "print(\"\\nEtapa 4: Avaliação do Modelo\")\n",
        "print(\"\\nResultados da Avaliação:\")\n",
        "\n",
        "#Naive Bayes\n",
        "y_pred_nb = naive_bayes_model.predict(X_test_tfidf)\n",
        "acuracia_nb = accuracy_score(y_test, y_pred_nb)\n",
        "print(\"\\nNaive Bayes Multinomial:\")\n",
        "print (\"Acurácia:\", acuracia_nb)\n",
        "print(\"Relatorio de Classificação:\\n\", classification_report(y_test, y_pred_nb, zero_division=0))\n",
        "\n",
        "#SVM\n",
        "y_pred_svm = best_svm_model.predict(X_test_tfidf)\n",
        "acuracia_svm = accuracy_score(y_test, y_pred_svm)\n",
        "print(\"\\nSVM:\")\n",
        "print(\"Acurácia:\", acuracia_svm)\n",
        "print (\"Relatorio de Classificação:\\n\", classification_report(y_test, y_pred_svm, zero_division=0))\n",
        "\n",
        "print(\"\\nComparação de Modelos:\")\n",
        "print(f\"- Acurácia Naive Bayes: {acuracia_nb: .4f}\")\n",
        "print (f\"- Acurácia SVM: {acuracia_svm: .4f}\")\n",
        "\n",
        "modelos = ['Naive Bayes', 'SVM' ]\n",
        "acuracias = [acuracia_nb, acuracia_svm]\n",
        "\n",
        "plt.figure(figsize=(8, 6))\n",
        "plt.bar(modelos, acuracias, color=['blue', 'red' ])\n",
        "plt.xlabel('Modelo')\n",
        "plt.ylabel('Acuracia')\n",
        "plt.title('Comparacao de Acuracia dos Modelos')\n",
        "plt.ylim(0, 1)\n",
        "plt.show()"
      ],
      "metadata": {
        "colab": {
          "base_uri": "https://localhost:8080/",
          "height": 1000
        },
        "id": "eHdQk4RxS9Fa",
        "outputId": "8fb29166-f06a-4d58-eaf3-30db35aad593"
      },
      "execution_count": null,
      "outputs": [
        {
          "output_type": "stream",
          "name": "stdout",
          "text": [
            "\n",
            "Etapa 4: Avaliação do Modelo\n",
            "\n",
            "Resultados da Avaliação:\n",
            "\n",
            "Naive Bayes Multinomial:\n",
            "Acurácia: 0.5\n",
            "Relatorio de Classificação:\n",
            "               precision    recall  f1-score   support\n",
            "\n",
            "    negativo       0.50      1.00      0.67         1\n",
            "    positivo       0.00      0.00      0.00         1\n",
            "\n",
            "    accuracy                           0.50         2\n",
            "   macro avg       0.25      0.50      0.33         2\n",
            "weighted avg       0.25      0.50      0.33         2\n",
            "\n",
            "\n",
            "SVM:\n",
            "Acurácia: 1.0\n",
            "Relatorio de Classificação:\n",
            "               precision    recall  f1-score   support\n",
            "\n",
            "    negativo       1.00      1.00      1.00         1\n",
            "    positivo       1.00      1.00      1.00         1\n",
            "\n",
            "    accuracy                           1.00         2\n",
            "   macro avg       1.00      1.00      1.00         2\n",
            "weighted avg       1.00      1.00      1.00         2\n",
            "\n",
            "\n",
            "Comparação de Modelos:\n",
            "- Acurácia Naive Bayes:  0.5000\n",
            "- Acurácia SVM:  1.0000\n"
          ]
        },
        {
          "output_type": "display_data",
          "data": {
            "text/plain": [
              "<Figure size 800x600 with 1 Axes>"
            ],
            "image/png": "[encoded data removed]"
          },
          "metadata": {}
        }
      ]
    },
    {
      "cell_type": "markdown",
      "source": [
        "## Etapa 05 - Classificação de um novo texto"
      ],
      "metadata": {
        "id": "phSHXs2xTQF3"
      }
    },
    {
      "cell_type": "code",
      "source": [
        "print(\"\\nEtapa 5: Classificação de um Novo Texto\")\n",
        "\n",
        "def classificar_novo_texto(texto, vectorizer, modelo):\n",
        "  texto_processado = preprocessar_texto(texto)\n",
        "  texto_tfidf = vectorizer. transform([texto_processado])\n",
        "\n",
        "  categoria_prevista = modelo.predict(texto_tfidf)[0]\n",
        "  try:\n",
        "    probabilidades = modelo.predict_proba(texto_tfidf)[0]\n",
        "    categorias = modelo.classes_\n",
        "    probabilidades_por_categoria = dict(zip(categorias, probabilidades))\n",
        "    return categoria_prevista, probabilidades_por_categoria\n",
        "  except AttributeError:\n",
        "    return categoria_prevista, {}"
      ],
      "metadata": {
        "colab": {
          "base_uri": "https://localhost:8080/"
        },
        "id": "Xq5WoyhNTSk6",
        "outputId": "ca77ddca-25ca-4c22-f29e-146d7bc7148b"
      },
      "execution_count": null,
      "outputs": [
        {
          "output_type": "stream",
          "name": "stdout",
          "text": [
            "\n",
            "Etapa 5: Classificação de um Novo Texto\n"
          ]
        }
      ]
    },
    {
      "cell_type": "code",
      "source": [
        "novo_texto = \"Este filme é incrível, recomendo a todos!\"\n",
        "\n",
        "print(\"\\nNovo Texto:\", novo_texto)\n",
        "print(\"\\nResultados da Classificação:\")\n",
        "\n",
        "#Naive Bayes\n",
        "categoria_nb, probabilidades_nb = classificar_novo_texto(novo_texto, vectorizer, naive_bayes_model)\n",
        "print(\"\\nNaive Bayes:\")\n",
        "print(\" Categoria Prevista:\", categoria_nb)\n",
        "if probabilidades_nb:\n",
        "  print(\"Probabilidades:\", probabilidades_nb)\n",
        "\n",
        "#CSVM\n",
        "categoria_svm, probabilidades_svm = classificar_novo_texto(novo_texto, vectorizer, best_svm_model)\n",
        "print(\"\\nSVM:\")\n",
        "print(\" Categoria Prevista:\", categoria_svm)\n",
        "if probabilidades_svm:\n",
        "  print(\"Probabilidades:\", probabilidades_svm)"
      ],
      "metadata": {
        "colab": {
          "base_uri": "https://localhost:8080/"
        },
        "id": "_oI6gJ2yTlLl",
        "outputId": "513dfc8d-f84d-4157-95ea-8f5c22645461"
      },
      "execution_count": null,
      "outputs": [
        {
          "output_type": "stream",
          "name": "stdout",
          "text": [
            "\n",
            "Novo Texto: Este filme é incrível, recomendo a todos!\n",
            "\n",
            "Resultados da Classificação:\n",
            "\n",
            "Naive Bayes:\n",
            " Categoria Prevista: positivo\n",
            "Probabilidades: {np.str_('negativo'): np.float64(0.29256806327043555), np.str_('positivo'): np.float64(0.7074319367295648)}\n",
            "\n",
            "SVM:\n",
            " Categoria Prevista: positivo\n",
            "Probabilidades: {'negativo': np.float64(0.8817303978937229), 'positivo': np.float64(0.11826960210627731)}\n"
          ]
        }
      ]
    }
  ]
}