{
  "nbformat": 4,
  "nbformat_minor": 0,
  "metadata": {
    "colab": {
      "provenance": [],
      "include_colab_link": true
    },
    "kernelspec": {
      "name": "python3",
      "display_name": "Python 3"
    },
    "language_info": {
      "name": "python"
    }
  },
  "cells": [
    {
      "cell_type": "markdown",
      "metadata": {
        "id": "view-in-github",
        "colab_type": "text"
      },
      "source": [
        "<a href=\"https://colab.research.google.com/github/tsc86/Processamento-de-Linguagem-Natural---PLN/blob/main/Aula_07_Descoberta_de_conhecimento.ipynb\" target=\"_parent\"><img src=\"https://colab.research.google.com/assets/colab-badge.svg\" alt=\"Open In Colab\"/></a>"
      ]
    },
    {
      "cell_type": "markdown",
      "source": [
        "Aula 07 - Descoberta de conhecimento\n"
      ],
      "metadata": {
        "id": "N1xexnTmqWwv"
      }
    },
    {
      "cell_type": "code",
      "source": [
        "import nltk\n",
        "nltk.download('punkt')  # Baixa os dados do tokenizador"
      ],
      "metadata": {
        "id": "aIkSCcdkpx3Q"
      },
      "execution_count": null,
      "outputs": []
    },
    {
      "cell_type": "code",
      "source": [
        "!pip install nltk"
      ],
      "metadata": {
        "id": "sJpDRWoqpzhz"
      },
      "execution_count": null,
      "outputs": []
    },
    {
      "cell_type": "code",
      "source": [
        "import nltk\n",
        "nltk.download('punkt')  # Dados para tokenização\n",
        "nltk.download('averaged_perceptron_tagger')  # Se for usar POS tagging"
      ],
      "metadata": {
        "id": "HLDhFFbqp8Yg"
      },
      "execution_count": null,
      "outputs": []
    },
    {
      "cell_type": "markdown",
      "source": [
        "Exemplo 01. NER com spaCy"
      ],
      "metadata": {
        "id": "kT95fB_Fl3D0"
      }
    },
    {
      "cell_type": "code",
      "source": [
        "!pip install spacy\n",
        "!python -m spacy download pt_core_news_sm"
      ],
      "metadata": {
        "id": "aOvwoqaDloEZ"
      },
      "execution_count": null,
      "outputs": []
    },
    {
      "cell_type": "code",
      "source": [
        "import spacy\n",
        "\n",
        "nlp = spacy.load(\"pt_core_news_sm\")\n",
        "\n",
        "texto = \"Steve Jobs, CEO da Apple, visitou o Brasil em maio de 2009 para discutir investimentos de R$ 5 bilhoes.\"\n",
        "\n",
        "doc = nlp(texto)\n",
        "\n",
        "for entidade in doc.ents:\n",
        "  print(f\"{entidade.text} - {entidade.label_}\")"
      ],
      "metadata": {
        "colab": {
          "base_uri": "https://localhost:8080/"
        },
        "id": "3On4X-hCmFWM",
        "outputId": "1f4f3b83-d7c5-4ee3-bab3-745527c2d6a3"
      },
      "execution_count": null,
      "outputs": [
        {
          "output_type": "stream",
          "name": "stdout",
          "text": [
            "Steve Jobs - PER\n",
            "Apple - ORG\n",
            "Brasil - LOC\n",
            "R$ - MISC\n"
          ]
        }
      ]
    },
    {
      "cell_type": "markdown",
      "source": [
        "Exemplo 02. NER com NLTK\n"
      ],
      "metadata": {
        "id": "PGY5A9qGl-Sa"
      }
    },
    {
      "cell_type": "code",
      "source": [
        "import nltk\n",
        "from nltk.tokenize import word_tokenize\n",
        "from nltk.tag import pos_tag\n",
        "from nltk.chunk import ne_chunk\n",
        "\n",
        "#nltk.download('punkt_tab')\n",
        "#nltk.download('maxent_ne_chunker_tab')\n",
        "#nltk.download('words')\n",
        "#nltk.download('averaged_perceptron_tagger_eng')\n",
        "\n",
        "texto = \"Barack Obama foi presidente dos Estados Unidos e ganhou o Premio Nobel da Paz.\"\n",
        "\n",
        "# Tokenizaçao e POS tagging\n",
        "tokens = word_tokenize(texto)\n",
        "tags = pos_tag(tokens)\n",
        "\n",
        "# Identificaçao de entidades\n",
        "entidades = ne_chunk(tags)\n",
        "\n",
        "print(entidades)"
      ],
      "metadata": {
        "id": "baMfAcOlmOIC"
      },
      "execution_count": null,
      "outputs": []
    },
    {
      "cell_type": "markdown",
      "source": [
        "Exemplo 03. Extração de informações com expressões regulares"
      ],
      "metadata": {
        "id": "kGXpnz60mc2v"
      }
    },
    {
      "cell_type": "code",
      "source": [
        "import re\n",
        "\n",
        "texto = \"O pagamento deve ser feito ate 30 de junho de 2025.\"\n",
        "\n",
        "padrao = r\"\\d{1,2} de [a-zA-Z]+ de \\d{4}\"\n",
        "datas = re.findall(padrao, texto)\n",
        "\n",
        "print(datas)"
      ],
      "metadata": {
        "colab": {
          "base_uri": "https://localhost:8080/"
        },
        "id": "fFtD5yonmiqo",
        "outputId": "7db941fb-0fcc-494c-eaf1-205a30a6039d"
      },
      "execution_count": null,
      "outputs": [
        {
          "output_type": "stream",
          "name": "stdout",
          "text": [
            "['30 de junho de 2025']\n"
          ]
        }
      ]
    },
    {
      "cell_type": "markdown",
      "source": [
        "Exemplo 04. Extração de informação com regras heurísticas e dicionários"
      ],
      "metadata": {
        "id": "4CYR0UZBmrnR"
      }
    },
    {
      "cell_type": "code",
      "source": [
        "profissoes = [\"engenheiro\", \"cientista de dados\", \"medico\", \"advogado\"]\n",
        "\n",
        "texto = \"Joao e engenheiro de software e trabalha no Google.\"\n",
        "\n",
        "for profissao in profissoes:\n",
        "  if profissao in texto:\n",
        "    print(f\"Profissao identificada: {profissao}\")"
      ],
      "metadata": {
        "colab": {
          "base_uri": "https://localhost:8080/"
        },
        "id": "I33QRPpjmygh",
        "outputId": "d8117e6c-7994-47a9-ef04-a70ffac4db4b"
      },
      "execution_count": null,
      "outputs": [
        {
          "output_type": "stream",
          "name": "stdout",
          "text": [
            "Profissao identificada: engenheiro\n"
          ]
        }
      ]
    },
    {
      "cell_type": "markdown",
      "source": [
        "Exemplo 05. Mineração de textos com frequência de palavras e N-gramas"
      ],
      "metadata": {
        "id": "0ZJPBByBnsv5"
      }
    },
    {
      "cell_type": "code",
      "source": [
        "import nltk\n",
        "from nltk.util import ngrams\n",
        "from collections import Counter\n",
        "\n",
        "texto = \"Mineracao de textos envolve analise de palavras, palavras importantes e padroes.\"\n",
        "palavras = nltk.word_tokenize(texto.lower())\n",
        "\n",
        "frequencia = Counter (palavras)\n",
        "print(frequencia.most_common(5))\n",
        "\n",
        "bigrams = list(ngrams(palavras, 2))\n",
        "print(bigrams)"
      ],
      "metadata": {
        "id": "KXrwL55Onbsr"
      },
      "execution_count": null,
      "outputs": []
    },
    {
      "cell_type": "markdown",
      "source": [
        "Exemplo 06. Mineração de texto"
      ],
      "metadata": {
        "id": "IsVs6Ap2n79o"
      }
    },
    {
      "cell_type": "code",
      "source": [
        "#!pip install gensim\n",
        "!pip install --force-reinstall gensim"
      ],
      "metadata": {
        "id": "zDXn3GJun_kF"
      },
      "execution_count": null,
      "outputs": []
    },
    {
      "cell_type": "code",
      "source": [
        "from gensim import corpora, models\n",
        "\n",
        "documentos = [[\"mineração\", \"textos\", \"dados\"],\n",
        "[\"inteligência\", \"artificial\", \"aprendizado\"],\n",
        "[\"dados\", \"aprendizado\", \"estatistica\"]]\n",
        "\n",
        "dicionario = corpora.Dictionary(documentos)\n",
        "corpus = [dicionario.doc2bow(texto) for texto in documentos]\n",
        "\n",
        "lda_modelo = models.LdaModel(corpus, num_topics=2, id2word=dicionario)\n",
        "print(lda_modelo.print_topics())"
      ],
      "metadata": {
        "id": "4JdIK9yWoN6b"
      },
      "execution_count": null,
      "outputs": []
    },
    {
      "cell_type": "markdown",
      "source": [],
      "metadata": {
        "id": "HonaLV9voIOY"
      }
    }
  ]
}
