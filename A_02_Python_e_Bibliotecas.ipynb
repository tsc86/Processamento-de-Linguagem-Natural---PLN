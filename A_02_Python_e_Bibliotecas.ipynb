{
  "nbformat": 4,
  "nbformat_minor": 0,
  "metadata": {
    "colab": {
      "provenance": [],
      "include_colab_link": true
    },
    "kernelspec": {
      "name": "python3",
      "display_name": "Python 3"
    },
    "language_info": {
      "name": "python"
    }
  },
  "cells": [
    {
      "cell_type": "markdown",
      "metadata": {
        "id": "view-in-github",
        "colab_type": "text"
      },
      "source": [
        "<a href=\"https://colab.research.google.com/github/tsc86/Processamento-de-Linguagem-Natural---PLN/blob/main/A_02_Python_e_Bibliotecas.ipynb\" target=\"_parent\"><img src=\"https://colab.research.google.com/assets/colab-badge.svg\" alt=\"Open In Colab\"/></a>"
      ]
    },
    {
      "cell_type": "code",
      "execution_count": null,
      "metadata": {
        "id": "EwkLZHPeUNCL"
      },
      "outputs": [],
      "source": [
        "# Exercício 1: Calcular o volume de uma caixa retangular\n",
        "\n",
        "# Solicitar as dimensões da caixa ao usuário\n",
        "comprimento = float(input(\"Digite o comprimento da caixa: \"))\n",
        "largura = float(input(\"Digite a largura da caixa: \"))\n",
        "altura = float(input(\"Digite a altura da caixa: \"))\n",
        "\n",
        "# Calcular o volume usando a fórmula VOLUME = COMPRIMENTO * LARGURA * ALTURA\n",
        "volume = comprimento * largura * altura\n",
        "\n",
        "# Exibir o resultado\n",
        "print(f\"O volume da caixa é: {volume}\")"
      ]
    },
    {
      "cell_type": "markdown",
      "source": [
        "_______________________________________________________"
      ],
      "metadata": {
        "id": "AUJtPIdHsJl6"
      }
    },
    {
      "cell_type": "code",
      "source": [
        "# Exercício 2: Contar o número de palavras em um texto\n",
        "\n",
        "# Solicitar um texto ao usuário\n",
        "texto = input(\"Digite um texto: \")\n",
        "\n",
        "# Dividir o texto em palavras usando o método split() (divide por espaços em branco)\n",
        "palavras = texto.split()\n",
        "\n",
        "# Contar o número de palavras usando a função len()\n",
        "numero_palavras = len(palavras)\n",
        "\n",
        "# Exibir o resultado\n",
        "print(f\"O número de palavras no texto é: {numero_palavras}\")"
      ],
      "metadata": {
        "colab": {
          "base_uri": "https://localhost:8080/"
        },
        "id": "NXpV7G0hVZn6",
        "outputId": "040beb55-94d1-4356-ae54-0f16757c20e2"
      },
      "execution_count": null,
      "outputs": [
        {
          "output_type": "stream",
          "name": "stdout",
          "text": [
            "Digite um texto: ola bom dia \n",
            "O número de palavras no texto é: 3\n"
          ]
        }
      ]
    },
    {
      "cell_type": "markdown",
      "source": [
        "_______________________________________________________"
      ],
      "metadata": {
        "id": "gj2cZj1usQEc"
      }
    },
    {
      "cell_type": "code",
      "source": [
        "# Exercício 3: Buscar e substituir palavras em um texto\n",
        "\n",
        "# Solicitar o texto original ao usuário\n",
        "texto = input(\"Digite um texto: \")\n",
        "\n",
        "# Solicitar a palavra que será substituída\n",
        "palavra_busca = input(\"Digite a palavra que deseja substituir: \")\n",
        "\n",
        "# Solicitar a palavra substituta\n",
        "palavra_substituta = input(\"Digite a palavra substituta: \")\n",
        "\n",
        "# Realizar a substituição usando o método replace()\n",
        "texto_modificado = texto.replace(palavra_busca, palavra_substituta)\n",
        "\n",
        "# Exibir o texto modificado\n",
        "print(f\"Texto modificado: {texto_modificado}\")"
      ],
      "metadata": {
        "id": "mM8xfMY4W4Oe"
      },
      "execution_count": null,
      "outputs": []
    },
    {
      "cell_type": "markdown",
      "source": [
        "_______________________________________________________"
      ],
      "metadata": {
        "id": "gGHoyi0ysUkI"
      }
    },
    {
      "cell_type": "code",
      "source": [
        "# Exercício 4: Separar frases usando split() e iterar sobre elas\n",
        "\n",
        "# Solicitar um texto com várias frases (separadas por pontos)\n",
        "texto = input(\"Digite um texto com várias frases (separe por pontos): \")\n",
        "\n",
        "# Dividir o texto em frases usando split('.')\n",
        "frases = texto.split('.')\n",
        "\n",
        "# Exibir cada frase numerada\n",
        "print(\"Frases separadas:\")\n",
        "for i, frase in enumerate(frases, 1):  # enumerate começa a contar de 1\n",
        "    frase = frase.strip()  # Remove espaços em branco no início e fim\n",
        "    if frase:  # Verifica se a frase não está vazia\n",
        "        print(f\"Frase {i}: {frase}\")"
      ],
      "metadata": {
        "id": "UYY1yPgFXQax"
      },
      "execution_count": null,
      "outputs": []
    },
    {
      "cell_type": "markdown",
      "source": [
        "_______________________________________________________"
      ],
      "metadata": {
        "id": "ZgjN6TbrsXXi"
      }
    },
    {
      "cell_type": "code",
      "source": [
        "# Exercício 5: Ordenar três valores em ordem crescente\n",
        "\n",
        "# Solicitar três valores inteiros\n",
        "A = int(input(\"Digite o valor de A: \"))\n",
        "B = int(input(\"Digite o valor de B: \"))\n",
        "C = int(input(\"Digite o valor de C: \"))\n",
        "\n",
        "# Colocar os valores em uma lista\n",
        "valores = [A, B, C]\n",
        "\n",
        "# Ordenar a lista em ordem crescente\n",
        "valores_ordenados = sorted(valores)\n",
        "\n",
        "# Exibir os valores ordenados\n",
        "print(f\"Valores em ordem crescente: {valores_ordenados}\")"
      ],
      "metadata": {
        "id": "HGGUNH2BYE9L"
      },
      "execution_count": null,
      "outputs": []
    },
    {
      "cell_type": "markdown",
      "source": [
        "_______________________________________________________"
      ],
      "metadata": {
        "id": "XaG8lWqvseFy"
      }
    },
    {
      "cell_type": "code",
      "source": [
        "# Exercício 6: Mostrar valores divisíveis por 2 e 3\n",
        "\n",
        "# Solicitar quatro valores inteiros\n",
        "A = int(input(\"Digite o valor de A: \"))\n",
        "B = int(input(\"Digite o valor de B: \"))\n",
        "C = int(input(\"Digite o valor de C: \"))\n",
        "D = int(input(\"Digite o valor de D: \"))\n",
        "\n",
        "# Criar uma lista com os valores\n",
        "valores = [A, B, C, D]\n",
        "\n",
        "# Filtrar os valores divisíveis por 2 e 3 usando list comprehension\n",
        "divisiveis = [valor for valor in valores if valor % 2 == 0 and valor % 3 == 0]\n",
        "\n",
        "# Verificar se há valores divisíveis e exibir o resultado\n",
        "if divisiveis:\n",
        "    print(\"Valores divisíveis por 2 e 3:\", divisiveis)\n",
        "else:\n",
        "    print(\"Nenhum valor é divisível por 2 e 3 ao mesmo tempo.\")"
      ],
      "metadata": {
        "id": "R8f_k6-uZWHE"
      },
      "execution_count": null,
      "outputs": []
    },
    {
      "cell_type": "markdown",
      "source": [
        "_______________________________________________________"
      ],
      "metadata": {
        "id": "LOvw2icushy_"
      }
    },
    {
      "cell_type": "code",
      "source": [
        "\n",
        "# Exercício 7: Mostrar valores divisíveis por 4 menores que 200\n",
        "\n",
        "print(\"Números divisíveis por 4 entre 200 e 4:\")\n",
        "\n",
        "# Loop de 200 até 4 (inclusive), decrementando 1 a cada iteração\n",
        "for numero in range(200, 3, -1):  # O stop é 3 para incluir o 4\n",
        "    if numero % 4 == 0:  # Verifica se o número é divisível por 4\n",
        "        print(numero, end=' ')"
      ],
      "metadata": {
        "id": "41lbY94KcEzD"
      },
      "execution_count": null,
      "outputs": []
    }
  ]
}